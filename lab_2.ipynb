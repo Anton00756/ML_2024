{
  "nbformat": 4,
  "nbformat_minor": 0,
  "metadata": {
    "colab": {
      "provenance": []
    },
    "kernelspec": {
      "name": "python3",
      "display_name": "Python 3"
    },
    "language_info": {
      "name": "python"
    }
  },
  "cells": [
    {
      "cell_type": "markdown",
      "source": [
        "## Лабораторая №2. Глобальная оптимизация и метаэврестические алгоритмы\n",
        "   - В Pygmo запрогроммировать две своих тестовых функции и найти их оптимум 3 разными алгоритмами доступными в библиотеке и получить таблицу сравнения"
      ],
      "metadata": {
        "id": "7J0EOg5rozmk"
      }
    },
    {
      "cell_type": "markdown",
      "source": [
        "Будем использовать следующие алгоритмы одномерной безусловной оптимизации:\n",
        "- Дифференциальная эволюция (Differential Evolution)\n",
        "- Алгоритм серой волчьей стаи (Gray wolf optimizer)\n",
        "- Алгоритм пчелиной колонии (Artificial bee colony)\n"
      ],
      "metadata": {
        "id": "MZaMwncgpqNy"
      }
    },
    {
      "cell_type": "code",
      "source": [
        "!pip install pygmo"
      ],
      "metadata": {
        "colab": {
          "base_uri": "https://localhost:8080/"
        },
        "id": "8Qv-vzgppSK2",
        "outputId": "2ba1b936-7161-438e-fd55-6ba31f50e960"
      },
      "execution_count": 13,
      "outputs": [
        {
          "output_type": "stream",
          "name": "stdout",
          "text": [
            "Requirement already satisfied: pygmo in /usr/local/lib/python3.10/dist-packages (2.19.5)\n",
            "Requirement already satisfied: numpy in /usr/local/lib/python3.10/dist-packages (from pygmo) (1.26.4)\n",
            "Requirement already satisfied: cloudpickle in /usr/local/lib/python3.10/dist-packages (from pygmo) (3.1.0)\n",
            "Requirement already satisfied: scipy in /usr/local/lib/python3.10/dist-packages (from pygmo) (1.13.1)\n"
          ]
        }
      ]
    },
    {
      "cell_type": "code",
      "source": [
        "import pygmo as pg\n",
        "\n",
        "\n",
        "count = 1000\n",
        "algorithms = [(pg.algorithm(pg.de(gen=count)), 'Differential Evolution'),\n",
        "              (pg.algorithm(pg.gwo(gen=count)), 'Gray wolf optimizer'),\n",
        "              (pg.algorithm(pg.bee_colony(gen=count)), 'Artificial bee colony')]"
      ],
      "metadata": {
        "id": "fCIMFUkdqXG6"
      },
      "execution_count": 14,
      "outputs": []
    },
    {
      "cell_type": "markdown",
      "source": [
        "Реализуем классы для функций Розенброка и Била:"
      ],
      "metadata": {
        "id": "vrrwfTnptYiJ"
      }
    },
    {
      "cell_type": "code",
      "source": [
        "class RosenbrockFunction:\n",
        "    def __init__(self):\n",
        "        self.dim = 2\n",
        "        self.bounds = [(-100, 100), (-100, 100)]\n",
        "\n",
        "    def get_nx(self):\n",
        "        return self.dim\n",
        "\n",
        "    def get_bounds(self):\n",
        "        return tuple(map(list, zip(*self.bounds)))\n",
        "\n",
        "    def fitness(self, input):\n",
        "        x, y = input\n",
        "        return [(1-x)**2 + 100 * (y-x**2)**2]\n",
        "\n",
        "\n",
        "class BealeFunction:\n",
        "    def __init__(self):\n",
        "        self.dim = 2\n",
        "        self.bounds = [(-4.5, 4.5), (-4.5, 4.5)]\n",
        "\n",
        "    def get_nx(self):\n",
        "        return self.dim\n",
        "\n",
        "    def get_bounds(self):\n",
        "        return tuple(map(list, zip(*self.bounds)))\n",
        "\n",
        "    def fitness(self, input):\n",
        "        x, y = input\n",
        "        return [(1.5 - x + x*y)**2 + (2.25 - x + x*y**2)**2 + (2.625 - x + x*y**3)**2]"
      ],
      "metadata": {
        "id": "_iEtWgsQtWoW"
      },
      "execution_count": 15,
      "outputs": []
    },
    {
      "cell_type": "markdown",
      "source": [
        "Проведём тестирование:"
      ],
      "metadata": {
        "id": "7u-uYsbdtrQP"
      }
    },
    {
      "cell_type": "code",
      "source": [
        "import pandas as pd\n",
        "\n",
        "\n",
        "def run_algorithm(problem, algorithm, population_size=100):\n",
        "    pop = pg.population(problem, size=population_size)\n",
        "    pop = algorithm.evolve(pop)\n",
        "    best_solution = pop.champion_x\n",
        "    best_fitness = pop.champion_f[0]\n",
        "    return best_solution[0], best_solution[1], best_fitness\n",
        "\n",
        "\n",
        "for title, problem in (('Функция Розенброка', pg.problem(RosenbrockFunction())), ('Функция Била', pg.problem(BealeFunction()))):\n",
        "    results = [(algo[1], *run_algorithm(problem, algo[0])) for algo in algorithms]\n",
        "    print(f\"{title}:\\n{pd.DataFrame(results, columns=['algorithm', 'x', 'y', 'f(x, y)'])}\\n\")"
      ],
      "metadata": {
        "colab": {
          "base_uri": "https://localhost:8080/"
        },
        "id": "_b0ckWOLtkmw",
        "outputId": "da4f1162-2039-4a2b-9577-3f629a46f020"
      },
      "execution_count": 16,
      "outputs": [
        {
          "output_type": "stream",
          "name": "stdout",
          "text": [
            "Функция Розенброка:\n",
            "                algorithm         x         y       f(x, y)\n",
            "0  Differential Evolution  0.999997  0.999992  1.136964e-09\n",
            "1     Gray wolf optimizer  1.000009  1.000027  8.346825e-09\n",
            "2   Artificial bee colony  1.084890  1.210768  1.213220e-01\n",
            "\n",
            "Функция Била:\n",
            "                algorithm         x         y       f(x, y)\n",
            "0  Differential Evolution  2.999915  0.499978  1.168473e-09\n",
            "1     Gray wolf optimizer  3.000003  0.499996  5.468409e-10\n",
            "2   Artificial bee colony  2.999862  0.499966  3.037063e-09\n",
            "\n"
          ]
        }
      ]
    }
  ]
}